{
 "cells": [
  {
   "cell_type": "code",
   "execution_count": 1,
   "metadata": {
    "collapsed": true
   },
   "outputs": [],
   "source": [
    "import tensorflow as tf\n",
    "import numpy as np\n",
    "import matplotlib as mpl\n",
    "import matplotlib.pyplot as plt\n",
    "\n",
    "\n",
    "%matplotlib inline\n",
    "\n",
    "'''\n",
    "Класс, представляющий собой одну кинематическую пару\n",
    "'''\n",
    "class KinematicPart:\n",
    "    s = tf.constant(0, dtype=tf.float32)\n",
    "    a = tf.constant(0, dtype=tf.float32)\n",
    "    alpha = tf.constant(0, dtype=tf.float32)\n",
    "    \n",
    "    borderMin = tf.constant(0, dtype=tf.float32)\n",
    "    borderMax = tf.constant(0, dtype=tf.float32)\n",
    "    \n",
    "    def __init__(self, s,a,alpha, bmin, bmax):\n",
    "        self.s = tf.constant(s, dtype=tf.float32)\n",
    "        self.a = tf.constant(a, dtype=tf.float32)\n",
    "        self.alpha = tf.constant(alpha, dtype=tf.float32)\n",
    "        self.borderMin = tf.constant(bmin, dtype=tf.float32)\n",
    "        self.borderMax = tf.constant(bmax, dtype=tf.float32)\n",
    "        \n",
    "    def getMatrix(self, q):\n",
    "        return [\n",
    "            [tf.cos(q), -tf.sin(q)*tf.cos(self.alpha), tf.sin(q)*tf.sin(self.alpha), self.a*tf.cos(q)],\n",
    "            [tf.sin(q), tf.cos(q)*tf.cos(self.alpha), -tf.cos(q)*tf.sin(self.alpha), self.a*tf.sin(q)],\n",
    "            [0, tf.sin(self.alpha), tf.cos(self.alpha), self.s],\n",
    "            [0, 0, 0, 1]\n",
    "                         ]\n",
    "\n",
    "\n",
    "'''\n",
    "Класс робота, состоящего из пар\n",
    "'''\n",
    "class Robot:\n",
    "    parts = []\n",
    "    penaltiesMin = None\n",
    "    penaltiesMax = None\n",
    "    \n",
    "    def __init__(self, parts):\n",
    "        self.parts = parts\n",
    "        self.penaltiesMin = [(p.borderMin) for p in self.parts]\n",
    "        self.penaltiesMax = [(p.borderMax) for p in self.parts]\n",
    "    \n",
    "    '''\n",
    "    Получить значение штрафа для данных обобщенных координат\n",
    "    '''\n",
    "    def penalty(self, Q, W1=1, W2=1):\n",
    "        \n",
    "        reduce_to_nil = lambda n: tf.cond(n > 0,\n",
    "                                         lambda:tf.constant(0,dtype=tf.float32), lambda:tf.abs(n))\n",
    "        \n",
    "        return W1*tf.reduce_sum(\n",
    "            tf.map_fn(reduce_to_nil, tf.subtract(Q, self.penaltiesMin))\n",
    "        ) + W2*tf.reduce_sum(tf.map_fn(reduce_to_nil, tf.subtract(self.penaltiesMax, Q)))\n",
    "    \n",
    "    \n",
    "    '''\n",
    "    Получить координаты схвата (конечного звена)\n",
    "    '''\n",
    "    def getXYZ(self, Q):\n",
    "        return self.getXYZPair(Q, len(self.parts))[:3]\n",
    "    \n",
    "    '''\n",
    "    Получить координаты конкретной пары \n",
    "    '''    \n",
    "    def getXYZPair(self, Q, pair):\n",
    "        \n",
    "        resultMatrix = tf.eye(4, dtype=tf.float32)\n",
    "        \n",
    "        for i,p in enumerate(self.parts):\n",
    "            \n",
    "            if i==pair:\n",
    "                break\n",
    "            \n",
    "            resultMatrix = tf.matmul(resultMatrix,p.getMatrix(Q[i]))\n",
    "        \n",
    "        xyz1 = tf.matmul(resultMatrix,tf.constant([[0],[0],[0],[1]], dtype=tf.float32))\n",
    "        #res = np.squeeze(xyz1,[3])\n",
    "        return xyz1\n",
    "    \n",
    "    \n",
    "    '''\n",
    "    Массив координат всех пар (для построения графика)\n",
    "    '''\n",
    "    def getPairPoints(self, Q):\n",
    "        \n",
    "        result = []\n",
    "        \n",
    "        for i,p in enumerate(self.parts):\n",
    "            pairXYZ = self.getXYZPair(Q,i)\n",
    "            result.append([pairXYZ[0],pairXYZ[1], pairXYZ[2]])\n",
    "        \n",
    "        return result\n",
    "\n",
    "    "
   ]
  },
  {
   "cell_type": "code",
   "execution_count": 2,
   "metadata": {
    "collapsed": true
   },
   "outputs": [],
   "source": [
    "tf.reset_default_graph()\n",
    "r=np.pi/180.0\n",
    "Z1 = KinematicPart(300, 0, np.pi/2, bmin=-150*r, bmax=150*r)\n",
    "Z2 = KinematicPart(0, 250, 0, bmin=-30*r, bmax=150*r)\n",
    "Z3 = KinematicPart(0, 160, 0, bmin=-150*r, bmax=80*r)\n",
    "Z4 = KinematicPart(0, 0, np.pi/2, bmin=-150*r, bmax=80*r)\n",
    "Z5 = KinematicPart(0, 72+124.17143421, 0, bmin=0*r, bmax=0*r)\n",
    "\n",
    "parts = [Z1,Z2,Z3,Z4,Z5]\n",
    "\n",
    "RV = Robot(parts)\n"
   ]
  },
  {
   "cell_type": "code",
   "execution_count": 3,
   "metadata": {
    "collapsed": true
   },
   "outputs": [],
   "source": [
    "trajectory = [\n",
    "    [[606],[0],[300]],\n",
    "    [[550],[30],[315]],\n",
    "    [[520],[50],[327]],\n",
    "    [[500],[80],[400]],\n",
    "    [[470],[120],[430]],\n",
    "#     [[397],[240],[330]]\n",
    "]"
   ]
  },
  {
   "cell_type": "code",
   "execution_count": 4,
   "metadata": {
    "collapsed": true
   },
   "outputs": [],
   "source": [
    "#Q0 = tf.placeholder(tf.float32)\n",
    "Q0 = tf.Variable([  0*r, 0*r, 0*r, 0*r, 0.000*r],dtype=tf.float32, name=\"Q_initial\")\n",
    "#Q0 = tf.Variable([-0.00081764*r,  0.38168061*r,  0.29301527*r,  0.34906584*r],dtype=tf.float32)\n",
    "\n",
    "targetPlace = tf.placeholder(tf.float32, name=\"targetXYZ\")\n",
    "target = tf.Variable([[0],[0],[0]], dtype=tf.float32)\n",
    "next_target = tf.assign(target, targetPlace)\n",
    "\n",
    "xyz = RV.getXYZ(Q0)[:3]\n",
    "penalty = RV.penalty(Q0, 9999, 9999)\n",
    "\n",
    "loss = tf.reduce_sum(tf.sqrt(tf.pow(target-xyz, 2))) + penalty\n",
    "\n",
    "global_step = tf.Variable(0.0, trainable=False, name=\"global_step\")\n",
    "\n",
    "epoch = tf.Variable(1, trainable=True, dtype=tf.int32, name=\"epoch\")\n",
    "\n",
    "new_epoch = tf.assign(epoch, epoch+1)\n",
    "reset_epoch = tf.assign(epoch, 1)\n",
    "\n",
    "initial_learning_rate = 0.25\n",
    "starter_learning_rate = tf.train.exponential_decay(initial_learning_rate, epoch,\n",
    "                                           1, 0.95, staircase=False)\n",
    "\n",
    "learning_rate = tf.train.exponential_decay(initial_learning_rate, global_step,\n",
    "                                          10, 0.96, staircase=False)\n",
    "\n",
    "\n",
    "\n",
    "optimizer = tf.train.AdamOptimizer(learning_rate)\n",
    "grad = optimizer.compute_gradients(loss, [Q0])\n",
    "\n",
    "\n",
    "best_loss = tf.Variable(tf.float32.max, dtype=tf.float32, name=\"best_loss\")\n",
    "best_q = tf.Variable([0,0,0,0,0], dtype=tf.float32, name=\"best_q\")\n",
    "\n",
    "best_loss_init = best_loss.assign(tf.float32.max)\n",
    "\n",
    "assign_best_loss = tf.assign(best_loss,\n",
    "                             tf.cond(best_loss>loss, lambda:loss, lambda:best_loss))\n",
    "\n",
    "assign_best_q = tf.assign(best_q,\n",
    "                          tf.cond(best_loss>loss, lambda:Q0, lambda:best_q))\n",
    "\n",
    "new_best_loss = [assign_best_q, assign_best_loss]\n",
    "\n",
    "error_decay = loss - best_loss\n",
    "\n",
    "gradRV = tf.concat([\n",
    "    tf.reshape(tf.slice(grad, [0,0,0], [1,1,4]),[4]), \n",
    "    [0]],0)\n",
    "\n",
    "cn = tf.is_nan(grad[0][0])\n",
    "\n",
    "grad_and_vars = [(tf.cond(tf.equal(cn[0],tf.constant(False)), \n",
    "                                  lambda:gradRV,\n",
    "                                  lambda:tf.constant([1, 1, 1, 1, 0], dtype=tf.float32)\n",
    "                                 ), grad[0][1])]\n",
    "\n",
    "\n",
    "train = optimizer.apply_gradients(grad_and_vars,global_step=global_step)\n",
    "\n",
    "\n",
    "reset_step = tf.variables_initializer([global_step])\n",
    "\n",
    "nextQ = tf.assign(Q0, best_q)\n",
    "\n",
    "model = tf.global_variables_initializer()\n"
   ]
  },
  {
   "cell_type": "code",
   "execution_count": 5,
   "metadata": {
    "scrolled": true
   },
   "outputs": [
    {
     "name": "stdout",
     "output_type": "stream",
     "text": [
      "starting at Q: [ 0.  0.  0.  0.  0.] loss: 3.40282e+38\n",
      "Steps 1431.0\n",
      "bestQ: -0.001*r, 1.035*r, -0.419*r, -2.437*r, 0.000*r  bestLoss:  0.0292667\n"
     ]
    },
    {
     "data": {
      "image/png": "[encoded data removed]",
      "text/plain": [
       "<matplotlib.figure.Figure at 0x1d5793a2cf8>"
      ]
     },
     "metadata": {},
     "output_type": "display_data"
    },
    {
     "name": "stdout",
     "output_type": "stream",
     "text": [
      "starting at Q: [ -1.11798836e-05   1.80648137e-02  -7.31883384e-03  -4.25351448e-02\n",
      "   0.00000000e+00] loss: 3.40282e+38\n",
      "Steps 1183.0\n",
      "bestQ: 3.121*r, 16.912*r, 2.890*r, -54.592*r, 0.000*r  bestLoss:  0.0313492\n"
     ]
    },
    {
     "data": {
      "image/png": "[encoded data removed]",
      "text/plain": [
       "<matplotlib.figure.Figure at 0x1d57a8257f0>"
      ]
     },
     "metadata": {},
     "output_type": "display_data"
    },
    {
     "name": "stdout",
     "output_type": "stream",
     "text": [
      "starting at Q: [ 0.05446401  0.29516736  0.0504457  -0.95281714  0.        ] loss: 3.40282e+38\n",
      "Steps 1234.0\n",
      "bestQ: 5.491*r, 19.021*r, 9.688*r, -70.740*r, 0.000*r  bestLoss:  0.0148773\n"
     ]
    },
    {
     "data": {
      "image/png": "[encoded data removed]",
      "text/plain": [
       "<matplotlib.figure.Figure at 0x1d57a7c50b8>"
      ]
     },
     "metadata": {},
     "output_type": "display_data"
    },
    {
     "name": "stdout",
     "output_type": "stream",
     "text": [
      "starting at Q: [ 0.09584071  0.33198586  0.16909234 -1.23464465  0.        ] loss: 3.40282e+38\n",
      "Steps 1169.0\n",
      "bestQ: 9.090*r, 24.468*r, 18.162*r, -77.414*r, 0.000*r  bestLoss:  0.0285034\n"
     ]
    },
    {
     "data": {
      "image/png": "[encoded data removed]",
      "text/plain": [
       "<matplotlib.figure.Figure at 0x1d57a8e2f28>"
      ]
     },
     "metadata": {},
     "output_type": "display_data"
    },
    {
     "name": "stdout",
     "output_type": "stream",
     "text": [
      "starting at Q: [ 0.15864874  0.4270497   0.31698817 -1.35113585  0.        ] loss: 3.40282e+38\n",
      "Steps 1314.0\n",
      "bestQ: 14.322*r, 26.865*r, 24.981*r, -85.528*r, 0.000*r  bestLoss:  0.0323792\n"
     ]
    },
    {
     "data": {
      "image/png": "[encoded data removed]",
      "text/plain": [
       "<matplotlib.figure.Figure at 0x1d57aa21048>"
      ]
     },
     "metadata": {},
     "output_type": "display_data"
    },
    {
     "name": "stdout",
     "output_type": "stream",
     "text": [
      "Wall time: 39.2 s\n"
     ]
    }
   ],
   "source": [
    "%%time\n",
    "\n",
    "STEPS_IN_EPOCH = 2000\n",
    "MAX_EPOCHS = 20\n",
    "DECAY_PRECISION = 0.0009\n",
    "\n",
    "\n",
    "traceLoss = []\n",
    "\n",
    "with tf.Session() as session:\n",
    "    session.run(model)\n",
    "    i=0\n",
    "    for t in trajectory:\n",
    "        traceX = []\n",
    "        traceY = []\n",
    "        \n",
    "        session.run(next_target,feed_dict={targetPlace:t})\n",
    "        \n",
    "        print(\"starting at\", \"Q:\", session.run(Q0), \"loss:\", session.run(best_loss))\n",
    "        \n",
    "        while session.run(best_loss) >= 0.04:\n",
    "            step = session.run(global_step)\n",
    "            e = session.run(epoch)\n",
    "            curStep=step+STEPS_IN_EPOCH*(e-1)\n",
    "            session.run(train)\n",
    "            decay = session.run(error_decay)\n",
    "            session.run(new_best_loss)\n",
    "\n",
    "            if step > STEPS_IN_EPOCH:\n",
    "                if session.run(epoch) >= MAX_EPOCHS:\n",
    "                    break\n",
    "\n",
    "                session.run(new_epoch)\n",
    "                session.run(reset_step)\n",
    "            traceX.append(curStep)\n",
    "            traceY.append(session.run(best_loss))\n",
    "            traceLoss.append(session.run(loss))\n",
    "    #         if(step % 50 == 0):\n",
    "    #             print(\"epoch\", session.run(epoch), \"step\", curStep, \"decay:\", decay, \"loss:\",\n",
    "    #                   session.run(best_loss), \"penalty: \", session.run(penalty))\n",
    "\n",
    "        print(\"Steps\",curStep)\n",
    "        session.run(nextQ)\n",
    "        session.run(reset_step)\n",
    "        session.run(reset_epoch)\n",
    "        \n",
    "        print(\"bestQ: %.3f*r, %.3f*r, %.3f*r, %.3f*r, %.3f*r\"% tuple(session.run(best_q)/r), \" bestLoss: \", session.run(best_loss))\n",
    "        session.run(best_loss_init)\n",
    "#         mpl.rcParams['legend.fontsize'] = 10\n",
    "\n",
    "        fig = plt.figure()\n",
    "        ax = fig.gca()\n",
    "\n",
    "        ax.plot(traceX, traceY, color=\"blue\")\n",
    "#         ax.plot(traceX[STEPS_IN_EPOCH:], traceY[STEPS_IN_EPOCH:], color=\"red\")\n",
    "#         ax.plot(traceX,traceLoss, color=\"blue\", lw=0.2)\n",
    "\n",
    "        ax.set_xlabel(\"Шаги\")\n",
    "        ax.set_ylabel(\"Ошибка\")\n",
    "        ax.legend([\"%i-я точка траектории (убывание ошибки)\" % i])\n",
    "\n",
    "        plt.show()\n",
    "        i = i + 1"
   ]
  }
 ],
 "metadata": {
  "kernelspec": {
   "display_name": "Python 3",
   "language": "python",
   "name": "python3"
  },
  "language_info": {
   "codemirror_mode": {
    "name": "ipython",
    "version": 3
   },
   "file_extension": ".py",
   "mimetype": "text/x-python",
   "name": "python",
   "nbconvert_exporter": "python",
   "pygments_lexer": "ipython3",
   "version": "3.6.1"
  }
 },
 "nbformat": 4,
 "nbformat_minor": 2
}
